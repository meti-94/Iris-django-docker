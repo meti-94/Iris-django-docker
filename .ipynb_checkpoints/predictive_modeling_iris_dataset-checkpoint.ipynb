{
 "cells": [
  {
   "cell_type": "markdown",
   "metadata": {
    "colab_type": "text",
    "id": "QScMfhJWrlbl"
   },
   "source": [
    "# Predictive Modeling"
   ]
  },
  {
   "cell_type": "markdown",
   "metadata": {
    "colab_type": "text",
    "id": "3EWnuz5srlbz"
   },
   "source": [
    "After data exploration, we now enter the predictive modeling task. In this notebook we will implement several machine learning algorithms from scikit-learn library. Those algorithms are:\n",
    "\n",
    "- KNeighborsClassifier\n",
    "- LogisticRegression\n",
    "- LinearSVC\n",
    "- GaussianNB\n",
    "- DecisionTreeClassifier\n",
    "- RandomForestClassifier\n",
    "- GradientBoostingClassifier\n",
    "- SVC\n",
    "\n",
    "On each of these algorithms, we will explore parameters tuning and compare which model do the predictive modeling very well. "
   ]
  },
  {
   "cell_type": "markdown",
   "metadata": {
    "colab_type": "text",
    "id": "cp0hRqttrlb8"
   },
   "source": [
    "__Import libraries__"
   ]
  },
  {
   "cell_type": "code",
   "execution_count": 0,
   "metadata": {
    "colab": {},
    "colab_type": "code",
    "id": "evKKlri8rlcG"
   },
   "outputs": [],
   "source": [
    "import numpy as np\n",
    "import pickle\n",
    "import pandas as pd\n",
    "import matplotlib.pyplot as plt\n",
    "import seaborn as sns\n",
    "%matplotlib inline\n",
    "from sklearn.model_selection import train_test_split\n",
    "import warnings\n",
    "warnings.filterwarnings('ignore')"
   ]
  },
  {
   "cell_type": "code",
   "execution_count": 0,
   "metadata": {
    "colab": {},
    "colab_type": "code",
    "id": "2BAB2CJprlcg"
   },
   "outputs": [],
   "source": [
    "dataset = pd.read_csv('Iris.csv')"
   ]
  },
  {
   "cell_type": "markdown",
   "metadata": {
    "colab_type": "text",
    "id": "wV_BBaw2rlc3"
   },
   "source": [
    "Apply small changes to make our dataset more easy to interpret:"
   ]
  },
  {
   "cell_type": "code",
   "execution_count": 0,
   "metadata": {
    "colab": {},
    "colab_type": "code",
    "id": "pnmCEbqbrlc_"
   },
   "outputs": [],
   "source": [
    "dataset = dataset.drop(columns=['Id'])"
   ]
  },
  {
   "cell_type": "code",
   "execution_count": 0,
   "metadata": {
    "colab": {},
    "colab_type": "code",
    "id": "djxAxo07rldf"
   },
   "outputs": [],
   "source": [
    "dataset.columns = ['sepal_length', 'sepal_width', 'petal_length', 'petal_width', 'species']"
   ]
  },
  {
   "cell_type": "code",
   "execution_count": 0,
   "metadata": {
    "colab": {},
    "colab_type": "code",
    "id": "AJuR7sawrld3"
   },
   "outputs": [],
   "source": [
    "dataset = dataset.replace(to_replace='Iris-setosa', value='Setosa', regex=True)\n",
    "dataset = dataset.replace(to_replace='Iris-virginica', value='Virginica', regex=True)\n",
    "dataset = dataset.replace(to_replace='Iris-versicolor', value='Versicolor', regex=True)"
   ]
  },
  {
   "cell_type": "code",
   "execution_count": 0,
   "metadata": {
    "colab": {
     "base_uri": "https://localhost:8080/",
     "height": 206
    },
    "colab_type": "code",
    "id": "W-uBEYI1rleE",
    "outputId": "1ae9e8a9-c666-4156-83b1-8fd3df63333d"
   },
   "outputs": [
    {
     "data": {
      "text/html": [
       "<div>\n",
       "<style scoped>\n",
       "    .dataframe tbody tr th:only-of-type {\n",
       "        vertical-align: middle;\n",
       "    }\n",
       "\n",
       "    .dataframe tbody tr th {\n",
       "        vertical-align: top;\n",
       "    }\n",
       "\n",
       "    .dataframe thead th {\n",
       "        text-align: right;\n",
       "    }\n",
       "</style>\n",
       "<table border=\"1\" class=\"dataframe\">\n",
       "  <thead>\n",
       "    <tr style=\"text-align: right;\">\n",
       "      <th></th>\n",
       "      <th>sepal_length</th>\n",
       "      <th>sepal_width</th>\n",
       "      <th>petal_length</th>\n",
       "      <th>petal_width</th>\n",
       "      <th>species</th>\n",
       "    </tr>\n",
       "  </thead>\n",
       "  <tbody>\n",
       "    <tr>\n",
       "      <th>0</th>\n",
       "      <td>5.1</td>\n",
       "      <td>3.5</td>\n",
       "      <td>1.4</td>\n",
       "      <td>0.2</td>\n",
       "      <td>Setosa</td>\n",
       "    </tr>\n",
       "    <tr>\n",
       "      <th>1</th>\n",
       "      <td>4.9</td>\n",
       "      <td>3.0</td>\n",
       "      <td>1.4</td>\n",
       "      <td>0.2</td>\n",
       "      <td>Setosa</td>\n",
       "    </tr>\n",
       "    <tr>\n",
       "      <th>2</th>\n",
       "      <td>4.7</td>\n",
       "      <td>3.2</td>\n",
       "      <td>1.3</td>\n",
       "      <td>0.2</td>\n",
       "      <td>Setosa</td>\n",
       "    </tr>\n",
       "    <tr>\n",
       "      <th>3</th>\n",
       "      <td>4.6</td>\n",
       "      <td>3.1</td>\n",
       "      <td>1.5</td>\n",
       "      <td>0.2</td>\n",
       "      <td>Setosa</td>\n",
       "    </tr>\n",
       "    <tr>\n",
       "      <th>4</th>\n",
       "      <td>5.0</td>\n",
       "      <td>3.6</td>\n",
       "      <td>1.4</td>\n",
       "      <td>0.2</td>\n",
       "      <td>Setosa</td>\n",
       "    </tr>\n",
       "  </tbody>\n",
       "</table>\n",
       "</div>"
      ],
      "text/plain": [
       "   sepal_length  sepal_width  petal_length  petal_width species\n",
       "0           5.1          3.5           1.4          0.2  Setosa\n",
       "1           4.9          3.0           1.4          0.2  Setosa\n",
       "2           4.7          3.2           1.3          0.2  Setosa\n",
       "3           4.6          3.1           1.5          0.2  Setosa\n",
       "4           5.0          3.6           1.4          0.2  Setosa"
      ]
     },
     "execution_count": 6,
     "metadata": {
      "tags": []
     },
     "output_type": "execute_result"
    }
   ],
   "source": [
    "# take a look to five datapoints on top\n",
    "dataset.head()"
   ]
  },
  {
   "cell_type": "markdown",
   "metadata": {
    "colab_type": "text",
    "id": "G58B-aj2rleW"
   },
   "source": [
    "Pairplot to give us visual representation:"
   ]
  },
  {
   "cell_type": "code",
   "execution_count": 0,
   "metadata": {
    "colab": {
     "base_uri": "https://localhost:8080/",
     "height": 725
    },
    "colab_type": "code",
    "id": "GdTyax97rlec",
    "outputId": "6f251a98-0a1b-46d4-d498-4dff26ef2f93"
   },
   "outputs": [
    {
     "data": {
      "image/png": "[encoded data removed]",
      "text/plain": [
       "<Figure size 805.75x720 with 20 Axes>"
      ]
     },
     "metadata": {
      "tags": []
     },
     "output_type": "display_data"
    }
   ],
   "source": [
    "sns.pairplot(dataset, hue='species');"
   ]
  },
  {
   "cell_type": "markdown",
   "metadata": {
    "colab_type": "text",
    "id": "GWW3KR4jrler"
   },
   "source": [
    "Create feature matrix and target vector, then split the dataset into training set and test set."
   ]
  },
  {
   "cell_type": "code",
   "execution_count": 0,
   "metadata": {
    "colab": {
     "base_uri": "https://localhost:8080/",
     "height": 54
    },
    "colab_type": "code",
    "id": "-c3MbXbxrleu",
    "outputId": "cedb7aa7-7255-4488-884f-5dc8ac8e24f3"
   },
   "outputs": [
    {
     "name": "stdout",
     "output_type": "stream",
     "text": [
      "(120, 4)\n",
      "(30, 4)\n"
     ]
    }
   ],
   "source": [
    "X = dataset.iloc[:, :4].values\n",
    "y = dataset['species'].values\n",
    "\n",
    "X_train, X_test, y_train, y_test = train_test_split(X, y, random_state=42, test_size=0.2)\n",
    "print(X_train.shape)\n",
    "print(X_test.shape)"
   ]
  },
  {
   "cell_type": "markdown",
   "metadata": {
    "colab_type": "text",
    "id": "F6bvfUzArle7"
   },
   "source": [
    "Now we have 120 data points in training set and 30 data points in test set."
   ]
  },
  {
   "cell_type": "markdown",
   "metadata": {
    "colab_type": "text",
    "id": "DRjXxoklrle_"
   },
   "source": [
    "---"
   ]
  },
  {
   "cell_type": "markdown",
   "metadata": {
    "colab_type": "text",
    "id": "2JNH8eBNrlfD"
   },
   "source": [
    "## KNeighborsClassifier"
   ]
  },
  {
   "cell_type": "markdown",
   "metadata": {
    "colab_type": "text",
    "id": "HzB3Zi4rrlfK"
   },
   "source": [
    "First model to consider is KNeighborsClassifier. A common algorithm to start with, because of its speed and simplicity."
   ]
  },
  {
   "cell_type": "code",
   "execution_count": 0,
   "metadata": {
    "colab": {},
    "colab_type": "code",
    "id": "XcRlAC2PrlfN"
   },
   "outputs": [],
   "source": [
    "from sklearn.neighbors import KNeighborsClassifier\n",
    "\n",
    "# we start by instantiate the model and set n_neighbors parameter to 1.\n",
    "knc = KNeighborsClassifier(n_neighbors=1)\n",
    "knc.fit(X_train, y_train);"
   ]
  },
  {
   "cell_type": "markdown",
   "metadata": {
    "colab_type": "text",
    "id": "cAPHpv8ErlfX"
   },
   "source": [
    "Take a look on several predicted values and compare it to the actual values on test set"
   ]
  },
  {
   "cell_type": "code",
   "execution_count": 0,
   "metadata": {
    "colab": {
     "base_uri": "https://localhost:8080/",
     "height": 90
    },
    "colab_type": "code",
    "id": "wOo2F3q9rlfb",
    "outputId": "560c29d1-ec66-4abd-8361-3b7330a1d2d9"
   },
   "outputs": [
    {
     "name": "stdout",
     "output_type": "stream",
     "text": [
      "['Versicolor' 'Setosa' 'Virginica' 'Versicolor' 'Versicolor' 'Setosa'\n",
      " 'Versicolor' 'Virginica' 'Versicolor' 'Versicolor']\n",
      "['Versicolor' 'Setosa' 'Virginica' 'Versicolor' 'Versicolor' 'Setosa'\n",
      " 'Versicolor' 'Virginica' 'Versicolor' 'Versicolor']\n"
     ]
    }
   ],
   "source": [
    "y_pred = knc.predict(X_test)\n",
    "print(y_pred[:10])\n",
    "print(y_test[:10])"
   ]
  },
  {
   "cell_type": "markdown",
   "metadata": {
    "colab_type": "text",
    "id": "JsG0qGj9rlfo"
   },
   "source": [
    "On first ten data points, prediction by KNeighborsClassifier shows us well done performance, with only one closest neighbor to consider. But what the actual score for training set and test set are? "
   ]
  },
  {
   "cell_type": "code",
   "execution_count": 0,
   "metadata": {
    "colab": {
     "base_uri": "https://localhost:8080/",
     "height": 54
    },
    "colab_type": "code",
    "id": "bRnWfTNYrlfq",
    "outputId": "0c7b2c32-308d-4d51-ed92-53ccf59bb35c"
   },
   "outputs": [
    {
     "name": "stdout",
     "output_type": "stream",
     "text": [
      "Training set score: 1.000\n",
      "Test set score: 1.000\n"
     ]
    }
   ],
   "source": [
    "print(\"Training set score: {:.3f}\".format(knc.score(X_train, y_train)))\n",
    "print(\"Test set score: {:.3f}\".format(knc.score(X_test, y_test)))"
   ]
  },
  {
   "cell_type": "markdown",
   "metadata": {
    "colab_type": "text",
    "id": "orPcxH_drlf2"
   },
   "source": [
    "Perfect score on training set and 97% on test set. Now we will see what happen if we change the n_neighbors parameter:"
   ]
  },
  {
   "cell_type": "code",
   "execution_count": 0,
   "metadata": {
    "colab": {
     "base_uri": "https://localhost:8080/",
     "height": 54
    },
    "colab_type": "code",
    "id": "PZ5ZW8eMrlf5",
    "outputId": "6026c98b-a0fd-4d6a-9456-3642ca26c38f"
   },
   "outputs": [
    {
     "name": "stdout",
     "output_type": "stream",
     "text": [
      "Training set score: 0.950\n",
      "Test set score: 1.000\n"
     ]
    }
   ],
   "source": [
    "knc1 = KNeighborsClassifier(n_neighbors=3).fit(X_train, y_train)\n",
    "print(\"Training set score: {:.3f}\".format(knc1.score(X_train, y_train)))\n",
    "print(\"Test set score: {:.3f}\".format(knc1.score(X_test, y_test)))"
   ]
  },
  {
   "cell_type": "code",
   "execution_count": 0,
   "metadata": {
    "colab": {
     "base_uri": "https://localhost:8080/",
     "height": 54
    },
    "colab_type": "code",
    "id": "F27wo_agrlgD",
    "outputId": "1022d655-93d8-4523-8746-c7086d020c3c"
   },
   "outputs": [
    {
     "name": "stdout",
     "output_type": "stream",
     "text": [
      "Training set score: 0.967\n",
      "Test set score: 1.000\n"
     ]
    }
   ],
   "source": [
    "knc2 = KNeighborsClassifier(n_neighbors=5).fit(X_train, y_train)\n",
    "print(\"Training set score: {:.3f}\".format(knc2.score(X_train, y_train)))\n",
    "print(\"Test set score: {:.3f}\".format(knc2.score(X_test, y_test)))"
   ]
  },
  {
   "cell_type": "markdown",
   "metadata": {
    "colab_type": "text",
    "id": "Sd5KDl0yrlgP"
   },
   "source": [
    "To have a knowledge about how tuning n_neighbors parameter will change the score for both traning set and test set. Let's make a graph for model complexity vs score."
   ]
  },
  {
   "cell_type": "code",
   "execution_count": 0,
   "metadata": {
    "colab": {},
    "colab_type": "code",
    "id": "oRbHAaQMrlgS"
   },
   "outputs": [],
   "source": [
    "train_score = []\n",
    "test_score = []\n",
    "for i in range(1, 11):\n",
    "    knc = KNeighborsClassifier(n_neighbors=i).fit(X_train, y_train)\n",
    "    train_score.append(knc.score(X_train, y_train))\n",
    "    test_score.append(knc.score(X_test, y_test))"
   ]
  },
  {
   "cell_type": "code",
   "execution_count": 0,
   "metadata": {
    "colab": {
     "base_uri": "https://localhost:8080/",
     "height": 296
    },
    "colab_type": "code",
    "id": "qPzwgX-Vrlgb",
    "outputId": "0f1fed56-2fe8-4d1e-b33c-ab0cbf27c7ee"
   },
   "outputs": [
    {
     "data": {
      "image/png": "[encoded data removed]",
      "text/plain": [
       "<Figure size 432x288 with 1 Axes>"
      ]
     },
     "metadata": {
      "tags": []
     },
     "output_type": "display_data"
    }
   ],
   "source": [
    "plt.plot(np.arange(1, 11), train_score, '-r', label='Training Score')\n",
    "plt.plot(np.arange(1, 11), test_score, '--b', label='Test Score')\n",
    "plt.grid(True, linestyle='--')\n",
    "plt.xlabel('n_neighbors')\n",
    "plt.ylabel('Score')\n",
    "plt.title(\"n_neighbors vs score\")\n",
    "plt.legend(loc='best');"
   ]
  },
  {
   "cell_type": "markdown",
   "metadata": {
    "colab_type": "text",
    "id": "OEdoK-9Srlgl"
   },
   "source": [
    "- As the graph shows, changing n_neighbors on this dataset will not make a major change. \n",
    "- Score for training set with n_neighbors equals one will presumably overfit the data, because of the perfect score training set has.\n",
    "- Variability of n_neighbors from 1 to 10, don't change the score on test set.  "
   ]
  },
  {
   "cell_type": "markdown",
   "metadata": {
    "colab_type": "text",
    "id": "bIn7AFDlrlgp"
   },
   "source": [
    "Now, we will look at the predict_proba instance method to gives us a sense of how certain the prediction was made (pick n_neighbors = 1) "
   ]
  },
  {
   "cell_type": "code",
   "execution_count": 0,
   "metadata": {
    "colab": {
     "base_uri": "https://localhost:8080/",
     "height": 164
    },
    "colab_type": "code",
    "id": "62AJxMwVrlgs",
    "outputId": "97eca396-db35-40ed-bb9c-b87a3697468e"
   },
   "outputs": [
    {
     "name": "stdout",
     "output_type": "stream",
     "text": [
      "Prediction Probability:\n",
      "[[0. 1. 0.]\n",
      " [1. 0. 0.]\n",
      " [0. 0. 1.]\n",
      " [0. 1. 0.]\n",
      " [0. 1. 0.]\n",
      " [1. 0. 0.]\n",
      " [0. 1. 0.]]\n"
     ]
    }
   ],
   "source": [
    "knc = KNeighborsClassifier(n_neighbors=1)\n",
    "knc.fit(X_train, y_train);\n",
    "print(\"Prediction Probability:\\n{}\".format(knc.predict_proba(X_test)[:7]))"
   ]
  },
  {
   "cell_type": "markdown",
   "metadata": {
    "colab_type": "text",
    "id": "FDnEjzDirlg5"
   },
   "source": [
    "Our model tends to make prediction with good certainty."
   ]
  },
  {
   "cell_type": "markdown",
   "metadata": {
    "colab_type": "text",
    "id": "IdXWjCBFrlg7"
   },
   "source": [
    "__Conclusion:__ <br>\n",
    "KNeighborsClassifier gives us a pretty good performance for such a simple starting model."
   ]
  },
  {
   "cell_type": "markdown",
   "metadata": {
    "colab_type": "text",
    "id": "mrrLJBdZrlg9"
   },
   "source": [
    "---"
   ]
  },
  {
   "cell_type": "markdown",
   "metadata": {
    "colab_type": "text",
    "id": "ujNGo5QerlhB"
   },
   "source": [
    "## Logistic Regression"
   ]
  },
  {
   "cell_type": "markdown",
   "metadata": {
    "colab_type": "text",
    "id": "TwrCMrl7rlhG"
   },
   "source": [
    "LogisticRegression is our next algorithm to consider; another simple algorithm to start to explore, because of its simplicity and speed. LogisticRegression has a common parameter to tune, which is C. This parameter controls the regularization effect to prevent the model tends to overfit the training set and makes it less generalize to new unseen data. Also there is penalty parameter: L1 and L2 regularization. To start, we use the default settings:"
   ]
  },
  {
   "cell_type": "code",
   "execution_count": 0,
   "metadata": {
    "colab": {},
    "colab_type": "code",
    "id": "xIl_fCO_rlhM"
   },
   "outputs": [],
   "source": [
    "from sklearn.linear_model import LogisticRegression\n",
    "\n",
    "# instantiate the model with default settings\n",
    "log = LogisticRegression(solver='lbfgs', multi_class='auto').fit(X_train, y_train) # new default settings"
   ]
  },
  {
   "cell_type": "code",
   "execution_count": 0,
   "metadata": {
    "colab": {
     "base_uri": "https://localhost:8080/",
     "height": 127
    },
    "colab_type": "code",
    "id": "c0QOuMQmrlhW",
    "outputId": "2a94d884-6268-4dea-9f80-747204a35e38"
   },
   "outputs": [
    {
     "name": "stdout",
     "output_type": "stream",
     "text": [
      "First 10 predicted values:\n",
      "['Versicolor' 'Setosa' 'Virginica' 'Versicolor' 'Versicolor' 'Setosa'\n",
      " 'Versicolor' 'Virginica' 'Versicolor' 'Versicolor']\n",
      "First 10 test set values:\n",
      "['Versicolor' 'Setosa' 'Virginica' 'Versicolor' 'Versicolor' 'Setosa'\n",
      " 'Versicolor' 'Virginica' 'Versicolor' 'Versicolor']\n"
     ]
    }
   ],
   "source": [
    "print(\"First 10 predicted values:\\n{}\".format(log.predict(X_test)[:10]))\n",
    "print(\"First 10 test set values:\\n{}\".format(y_test[:10]))"
   ]
  },
  {
   "cell_type": "markdown",
   "metadata": {
    "colab_type": "text",
    "id": "0l4ph6ihrlhd"
   },
   "source": [
    "We look for training set score and test set score:"
   ]
  },
  {
   "cell_type": "code",
   "execution_count": 0,
   "metadata": {
    "colab": {
     "base_uri": "https://localhost:8080/",
     "height": 54
    },
    "colab_type": "code",
    "id": "LKlxIPjUrlhf",
    "outputId": "b1b1e77b-d861-4c31-f293-a98da0954cec"
   },
   "outputs": [
    {
     "name": "stdout",
     "output_type": "stream",
     "text": [
      "Training set score: 0.975\n",
      "Test set score: 1.000\n"
     ]
    }
   ],
   "source": [
    "print(\"Training set score: {:.3f}\".format(log.score(X_train, y_train)))\n",
    "print(\"Test set score: {:.3f}\".format(log.score(X_test, y_test)))"
   ]
  },
  {
   "cell_type": "markdown",
   "metadata": {
    "colab_type": "text",
    "id": "3fbea5sJrlho"
   },
   "source": [
    "How changes on the C parameter, contributes to the score on training set and test set. Let's take a look:"
   ]
  },
  {
   "cell_type": "code",
   "execution_count": 0,
   "metadata": {
    "colab": {},
    "colab_type": "code",
    "id": "UKKdbx4Vrlhq"
   },
   "outputs": [],
   "source": [
    "train_score = []\n",
    "test_score = []\n",
    "\n",
    "for c in [0.001, 0.01, 0.1, 1, 10, 100, 1000]:\n",
    "    log = LogisticRegression(solver='lbfgs', multi_class='auto', C=c, max_iter=1000000).fit(X_train, y_train)\n",
    "    train_score.append(log.score(X_train, y_train))\n",
    "    test_score.append(log.score(X_test, y_test))"
   ]
  },
  {
   "cell_type": "code",
   "execution_count": 0,
   "metadata": {
    "colab": {
     "base_uri": "https://localhost:8080/",
     "height": 299
    },
    "colab_type": "code",
    "id": "YcTZY792rlhy",
    "outputId": "1653480e-6902-42dd-ed25-d2e630e55f6d"
   },
   "outputs": [
    {
     "data": {
      "image/png": "[encoded data removed]",
      "text/plain": [
       "<Figure size 432x288 with 1 Axes>"
      ]
     },
     "metadata": {
      "tags": []
     },
     "output_type": "display_data"
    }
   ],
   "source": [
    "plt.plot([0.001, 0.01, 0.1, 1, 10, 100, 1000], train_score, '-r', label='Training Score')\n",
    "plt.plot([0.001, 0.01, 0.1, 1, 10, 100, 1000], test_score, '--b', label='Test score')\n",
    "plt.xscale('log')\n",
    "plt.xlabel('C')\n",
    "plt.ylabel('Score')\n",
    "plt.title('C vs Score')\n",
    "plt.legend(loc='lower right');"
   ]
  },
  {
   "cell_type": "markdown",
   "metadata": {
    "colab_type": "text",
    "id": "OzF3S5Owrlh-"
   },
   "source": [
    "From the chart above, the model complexity goes from left to right; low value of C means low complexity because the regularization effect is stronger and high value of C means high complexity because the regularization effect is weaker. Also, low value of C makes the score for the training set and test set are both bad, an indication that the model is underfit. To the right of chart, after C equals one, the test set score is not changing. So we can take C equals one to be a good parameter to use in this iris dataset. "
   ]
  },
  {
   "cell_type": "code",
   "execution_count": 0,
   "metadata": {
    "colab": {
     "base_uri": "https://localhost:8080/",
     "height": 54
    },
    "colab_type": "code",
    "id": "gKo3s4gtrliA",
    "outputId": "b7f83fbb-4659-4218-c04f-1523dd0853ab"
   },
   "outputs": [
    {
     "name": "stdout",
     "output_type": "stream",
     "text": [
      "Training set score: 0.975\n",
      "Test set score: 1.000\n"
     ]
    }
   ],
   "source": [
    "log = LogisticRegression(solver='lbfgs', multi_class='auto', C=1, max_iter=1000000).fit(X_train, y_train)\n",
    "\n",
    "print(\"Training set score: {:.3f}\".format(log.score(X_train, y_train)))\n",
    "print(\"Test set score: {:.3f}\".format(log.score(X_test, y_test)))"
   ]
  },
  {
   "cell_type": "markdown",
   "metadata": {
    "colab_type": "text",
    "id": "aP2Wqxq9rliI"
   },
   "source": [
    "__Conclusion:__ <br>\n",
    "LogisticRegression makes a good performance for both training set and test set."
   ]
  },
  {
   "cell_type": "markdown",
   "metadata": {
    "colab_type": "text",
    "id": "pF4HWElzrliJ"
   },
   "source": [
    "---"
   ]
  },
  {
   "cell_type": "markdown",
   "metadata": {
    "colab_type": "text",
    "id": "jhL0XnHCrliL"
   },
   "source": [
    "## LinearSVC"
   ]
  },
  {
   "cell_type": "markdown",
   "metadata": {
    "colab_type": "text",
    "id": "9OspVk7ErliN"
   },
   "source": [
    "LinearSVC implements the linear model concept, just like LogisticRegression. With same common parameter to tune, which is C. Now, we start by using the default settings and make adjusments later."
   ]
  },
  {
   "cell_type": "code",
   "execution_count": 0,
   "metadata": {
    "colab": {},
    "colab_type": "code",
    "id": "YoRFjLMxrliQ"
   },
   "outputs": [],
   "source": [
    "from sklearn.svm import LinearSVC\n",
    "\n",
    "# instantiate the model with default settings\n",
    "lin_svc = LinearSVC(max_iter=1000000).fit(X_train, y_train)"
   ]
  },
  {
   "cell_type": "code",
   "execution_count": 0,
   "metadata": {
    "colab": {
     "base_uri": "https://localhost:8080/",
     "height": 127
    },
    "colab_type": "code",
    "id": "HcOxApJxrliV",
    "outputId": "3a051c0a-5d7e-45ba-aee0-8a358a9fcd68"
   },
   "outputs": [
    {
     "name": "stdout",
     "output_type": "stream",
     "text": [
      "First 10 predicted values:\n",
      "['Versicolor' 'Setosa' 'Virginica' 'Versicolor' 'Versicolor' 'Setosa'\n",
      " 'Versicolor' 'Virginica' 'Versicolor' 'Versicolor']\n",
      "First 10 test set values:\n",
      "['Versicolor' 'Setosa' 'Virginica' 'Versicolor' 'Versicolor' 'Setosa'\n",
      " 'Versicolor' 'Virginica' 'Versicolor' 'Versicolor']\n"
     ]
    }
   ],
   "source": [
    "print(\"First 10 predicted values:\\n{}\".format(lin_svc.predict(X_test)[:10]))\n",
    "print(\"First 10 test set values:\\n{}\".format(y_test[:10]))"
   ]
  },
  {
   "cell_type": "markdown",
   "metadata": {
    "colab_type": "text",
    "id": "BrZLUr_Rrlic"
   },
   "source": [
    "We can see that first ten data points for both predicted and test set are correct 100%. But, what about the score?"
   ]
  },
  {
   "cell_type": "code",
   "execution_count": 0,
   "metadata": {
    "colab": {
     "base_uri": "https://localhost:8080/",
     "height": 54
    },
    "colab_type": "code",
    "id": "oKF6RkNjrlie",
    "outputId": "0a4d941d-f62c-45e0-bac3-f9cba99b7c60"
   },
   "outputs": [
    {
     "name": "stdout",
     "output_type": "stream",
     "text": [
      "Training set score: 0.975\n",
      "Test set score: 1.000\n"
     ]
    }
   ],
   "source": [
    "print(\"Training set score: {:.3f}\".format(lin_svc.score(X_train, y_train)))\n",
    "print(\"Test set score: {:.3f}\".format(lin_svc.score(X_test, y_test)))"
   ]
  },
  {
   "cell_type": "markdown",
   "metadata": {
    "colab_type": "text",
    "id": "53BcwPB4rlil"
   },
   "source": [
    "Good score for training set and not so good score for test set. Can we get a better performance if we tune the parameter C?"
   ]
  },
  {
   "cell_type": "code",
   "execution_count": 0,
   "metadata": {
    "colab": {},
    "colab_type": "code",
    "id": "b2Y5a-durlin"
   },
   "outputs": [],
   "source": [
    "train_score = []\n",
    "test_score = []\n",
    "\n",
    "for c in [0.001, 0.01, 0.1, 1, 10, 100, 1000]:\n",
    "    lin_svc = LinearSVC(max_iter=10000000, C=c).fit(X_train, y_train)\n",
    "    train_score.append(lin_svc.score(X_train, y_train))\n",
    "    test_score.append(lin_svc.score(X_test, y_test))"
   ]
  },
  {
   "cell_type": "code",
   "execution_count": 0,
   "metadata": {
    "colab": {
     "base_uri": "https://localhost:8080/",
     "height": 299
    },
    "colab_type": "code",
    "id": "v9H0EGperlis",
    "outputId": "ff3df12e-afe9-4d59-9185-7fff22c3ac3b"
   },
   "outputs": [
    {
     "data": {
      "image/png": "[encoded data removed]",
      "text/plain": [
       "<Figure size 432x288 with 1 Axes>"
      ]
     },
     "metadata": {
      "tags": []
     },
     "output_type": "display_data"
    }
   ],
   "source": [
    "plt.plot([0.001, 0.01, 0.1, 1, 10, 100, 1000], train_score, '-r', label='Training Score')\n",
    "plt.plot([0.001, 0.01, 0.1, 1, 10, 100, 1000], test_score, '--b', label='Test score')\n",
    "plt.xscale('log')\n",
    "plt.xlabel('C')\n",
    "plt.ylabel('Score')\n",
    "plt.title('C vs Score')\n",
    "plt.legend(loc='lower right');"
   ]
  },
  {
   "cell_type": "markdown",
   "metadata": {
    "colab_type": "text",
    "id": "ECZ8q6Irrli2"
   },
   "source": [
    "Not so different from C vs Score graph of LogisticRegression, this graph tells us that low value of C means low complexity model and high value of C means high complexity model. At the right side, score for training set and test set tend to converge together, but we still have to be careful about the probability that the model will overfit training set. So, we have take look at what happen when the value of C = 10000."
   ]
  },
  {
   "cell_type": "code",
   "execution_count": 0,
   "metadata": {
    "colab": {
     "base_uri": "https://localhost:8080/",
     "height": 54
    },
    "colab_type": "code",
    "id": "QDAgHC1Lrli3",
    "outputId": "b10b48cf-0fbb-4c5c-9d9a-b1704ef2754c"
   },
   "outputs": [
    {
     "name": "stdout",
     "output_type": "stream",
     "text": [
      "Training set score: 0.975\n",
      "Test set score: 1.000\n"
     ]
    }
   ],
   "source": [
    "lin_svc = LinearSVC(max_iter=10000000, C=10000).fit(X_train, y_train)\n",
    "print(\"Training set score: {:.3f}\".format(lin_svc.score(X_train, y_train)))\n",
    "print(\"Test set score: {:.3f}\".format(lin_svc.score(X_test, y_test)))"
   ]
  },
  {
   "cell_type": "markdown",
   "metadata": {
    "colab_type": "text",
    "id": "pB0z1tj7rli9"
   },
   "source": [
    "__Conclusion:__ <br>\n",
    "LinearSVC makes a good prediction just like LogisticRegression does, but one thing to consider, LinearSVC needs high value of iteration to make it converge and take a bit long time than LogisticRegression."
   ]
  },
  {
   "cell_type": "markdown",
   "metadata": {
    "colab_type": "text",
    "id": "AIO0NffFrli9"
   },
   "source": [
    "---"
   ]
  },
  {
   "cell_type": "markdown",
   "metadata": {
    "colab_type": "text",
    "id": "LaGjYccQrljA"
   },
   "source": [
    "## GaussianNB"
   ]
  },
  {
   "cell_type": "markdown",
   "metadata": {
    "colab_type": "text",
    "id": "XqJGABZ9rljC"
   },
   "source": [
    "Now, we consider Naive Bayes algorithm. Common algorithms in naive bayes are GaussianNB, MultinomialNB, and BinomialNB. But this time we just use GaussianNB to make prediction, known as a good model to start because no parameter tuning necessary."
   ]
  },
  {
   "cell_type": "code",
   "execution_count": 0,
   "metadata": {
    "colab": {
     "base_uri": "https://localhost:8080/",
     "height": 127
    },
    "colab_type": "code",
    "id": "46RZeiexrljE",
    "outputId": "abf8cc63-a3aa-4861-b086-9465c0893ec0"
   },
   "outputs": [
    {
     "name": "stdout",
     "output_type": "stream",
     "text": [
      "First ten predicted values:\n",
      "['Versicolor' 'Setosa' 'Virginica' 'Versicolor' 'Versicolor' 'Setosa'\n",
      " 'Versicolor' 'Virginica' 'Versicolor' 'Versicolor']\n",
      "First ten test set values:\n",
      "['Versicolor' 'Setosa' 'Virginica' 'Versicolor' 'Versicolor' 'Setosa'\n",
      " 'Versicolor' 'Virginica' 'Versicolor' 'Versicolor']\n"
     ]
    }
   ],
   "source": [
    "from sklearn.naive_bayes import GaussianNB\n",
    "\n",
    "# instantiate the model\n",
    "gaussian = GaussianNB().fit(X_train, y_train)\n",
    "# take a look on first ten predicted values and test set values\n",
    "print(\"First ten predicted values:\\n{}\".format(gaussian.predict(X_test)[:10]))\n",
    "print(\"First ten test set values:\\n{}\".format(y_test[:10]))"
   ]
  },
  {
   "cell_type": "code",
   "execution_count": 0,
   "metadata": {
    "colab": {
     "base_uri": "https://localhost:8080/",
     "height": 54
    },
    "colab_type": "code",
    "id": "apJsQnxErljK",
    "outputId": "20688a07-44e4-4ea0-cce9-6047a75fb90c"
   },
   "outputs": [
    {
     "name": "stdout",
     "output_type": "stream",
     "text": [
      "Training set score: 0.950\n",
      "Test set score: 1.000\n"
     ]
    }
   ],
   "source": [
    "print(\"Training set score: {:.3f}\".format(gaussian.score(X_train, y_train)))\n",
    "print(\"Test set score: {:.3f}\".format(gaussian.score(X_test, y_test)))"
   ]
  },
  {
   "cell_type": "markdown",
   "metadata": {
    "colab_type": "text",
    "id": "1aJgN_10rljS"
   },
   "source": [
    "__Conclusion:__ <br>\n",
    "GaussianNB doesn't need parameter tuning, which makes it a good model for its simplicity. Also, as we can see above, one of the reason why training set score is lower than test set is because the dataset size is pretty small."
   ]
  },
  {
   "cell_type": "markdown",
   "metadata": {
    "colab_type": "text",
    "id": "9kMU9TzVrljU"
   },
   "source": [
    "---"
   ]
  },
  {
   "cell_type": "markdown",
   "metadata": {
    "colab_type": "text",
    "id": "GkOv2NASrljV"
   },
   "source": [
    "## DecisionTreeClassifier"
   ]
  },
  {
   "cell_type": "markdown",
   "metadata": {
    "colab_type": "text",
    "id": "_LQ0DQL0rljX"
   },
   "source": [
    "Now, we enter more advanced region of machine learning algorithms. This time we consider DecisionTreeClassifier, an algorithm that works by asking questions (or we can call it tests) to make classification. We start by default parameter settings."
   ]
  },
  {
   "cell_type": "code",
   "execution_count": 0,
   "metadata": {
    "colab": {},
    "colab_type": "code",
    "id": "u0xOIpRqrljZ"
   },
   "outputs": [],
   "source": [
    "from sklearn.tree import DecisionTreeClassifier\n",
    "\n",
    "tree = DecisionTreeClassifier().fit(X_train, y_train)"
   ]
  },
  {
   "cell_type": "markdown",
   "metadata": {
    "colab_type": "text",
    "id": "3VE1DyHCrljg"
   },
   "source": [
    "Take a look on first ten predicted values and test set values to compare:"
   ]
  },
  {
   "cell_type": "code",
   "execution_count": 0,
   "metadata": {
    "colab": {
     "base_uri": "https://localhost:8080/",
     "height": 127
    },
    "colab_type": "code",
    "id": "6TSqJ1grrljj",
    "outputId": "a76fcd32-34d2-489f-e2e2-650c3955d7d8"
   },
   "outputs": [
    {
     "name": "stdout",
     "output_type": "stream",
     "text": [
      "First ten predicted values:\n",
      "['Versicolor' 'Setosa' 'Virginica' 'Versicolor' 'Versicolor' 'Setosa'\n",
      " 'Versicolor' 'Virginica' 'Versicolor' 'Versicolor']\n",
      "First ten test set values:\n",
      "['Versicolor' 'Setosa' 'Virginica' 'Versicolor' 'Versicolor' 'Setosa'\n",
      " 'Versicolor' 'Virginica' 'Versicolor' 'Versicolor']\n"
     ]
    }
   ],
   "source": [
    "print(\"First ten predicted values:\\n{}\".format(gaussian.predict(X_test)[:10]))\n",
    "print(\"First ten test set values:\\n{}\".format(y_test[:10]))"
   ]
  },
  {
   "cell_type": "code",
   "execution_count": 0,
   "metadata": {
    "colab": {
     "base_uri": "https://localhost:8080/",
     "height": 54
    },
    "colab_type": "code",
    "id": "j9vNajvCrljw",
    "outputId": "7310e18e-2d59-4f46-d1ff-8558591221ef"
   },
   "outputs": [
    {
     "name": "stdout",
     "output_type": "stream",
     "text": [
      "Training set score: 1.000\n",
      "Test set score: 1.000\n"
     ]
    }
   ],
   "source": [
    "print(\"Training set score: {:.3f}\".format(tree.score(X_train, y_train)))\n",
    "print(\"Test set score: {:.3f}\".format(tree.score(X_test, y_test)))"
   ]
  },
  {
   "cell_type": "markdown",
   "metadata": {
    "colab_type": "text",
    "id": "UvIfIaFUrlj9"
   },
   "source": [
    "Perfect score for training set, but not so good on test set score, an indication that probably the model tends to overfit the training set, because the default settings make the tree wants to achieve pure leaves as many as possible. Then, let's see what will happen when we change the parameter max_depth (pre-prunning control)."
   ]
  },
  {
   "cell_type": "code",
   "execution_count": 0,
   "metadata": {
    "colab": {
     "base_uri": "https://localhost:8080/",
     "height": 54
    },
    "colab_type": "code",
    "id": "MVnS-W0Arlj_",
    "outputId": "dfea34f9-f965-4e0f-8152-fffc01becbfa"
   },
   "outputs": [
    {
     "name": "stdout",
     "output_type": "stream",
     "text": [
      "Training set score: 0.958\n",
      "Test set score: 1.000\n"
     ]
    }
   ],
   "source": [
    "tree = DecisionTreeClassifier(random_state=0, max_depth=3).fit(X_train, y_train)\n",
    "print(\"Training set score: {:.3f}\".format(tree.score(X_train, y_train)))\n",
    "print(\"Test set score: {:.3f}\".format(tree.score(X_test, y_test)))"
   ]
  },
  {
   "cell_type": "code",
   "execution_count": 0,
   "metadata": {
    "colab": {},
    "colab_type": "code",
    "id": "IhoJ8JeRrlkM"
   },
   "outputs": [],
   "source": [
    "train_score = []\n",
    "test_score = []\n",
    "\n",
    "for depth in range(1, 6):\n",
    "    tree = DecisionTreeClassifier(max_depth=depth, random_state=0).fit(X_train, y_train)\n",
    "    train_score.append(tree.score(X_train, y_train))\n",
    "    test_score.append(tree.score(X_test, y_test))"
   ]
  },
  {
   "cell_type": "code",
   "execution_count": 0,
   "metadata": {
    "colab": {
     "base_uri": "https://localhost:8080/",
     "height": 296
    },
    "colab_type": "code",
    "id": "130BceCArlkR",
    "outputId": "b9eef884-9624-4d56-cbb7-2ed78bffdd44"
   },
   "outputs": [
    {
     "data": {
      "image/png": "[encoded data removed]",
      "text/plain": [
       "<Figure size 432x288 with 1 Axes>"
      ]
     },
     "metadata": {
      "tags": []
     },
     "output_type": "display_data"
    }
   ],
   "source": [
    "plt.plot(range(1, 6), train_score, '-r', label='Training Score')\n",
    "plt.plot(range(1, 6), test_score, '--b', label='Test score')\n",
    "plt.xlabel('max_depth')\n",
    "plt.ylabel('Score')\n",
    "plt.title('max_depth vs Score')\n",
    "plt.legend(loc='lower right');"
   ]
  },
  {
   "cell_type": "markdown",
   "metadata": {
    "colab_type": "text",
    "id": "CAP_dRC4rlkY"
   },
   "source": [
    "As we see on the graph above, we can conclude that a good decision of max_depth parameter is 3, because this is the sweet spot without underfiting or overfitting the model."
   ]
  },
  {
   "cell_type": "markdown",
   "metadata": {
    "colab_type": "text",
    "id": "-7N8iGNmrlka"
   },
   "source": [
    "Now, from four features in iris dataset can we conclude which one that make the most important decision on classification process? Let's have a sight on feature_importances:"
   ]
  },
  {
   "cell_type": "code",
   "execution_count": 0,
   "metadata": {
    "colab": {
     "base_uri": "https://localhost:8080/",
     "height": 35
    },
    "colab_type": "code",
    "id": "elrHc01crlkb",
    "outputId": "bc55663b-0be2-445e-c0ea-95d64f7d744e"
   },
   "outputs": [
    {
     "data": {
      "text/plain": [
       "array([0.        , 0.01695274, 0.39586398, 0.58718328])"
      ]
     },
     "execution_count": 37,
     "metadata": {
      "tags": []
     },
     "output_type": "execute_result"
    }
   ],
   "source": [
    "tree.feature_importances_"
   ]
  },
  {
   "cell_type": "code",
   "execution_count": 0,
   "metadata": {
    "colab": {
     "base_uri": "https://localhost:8080/",
     "height": 279
    },
    "colab_type": "code",
    "id": "eFtuh0D4rlki",
    "outputId": "a307d869-d892-428b-b3a0-1bb3a5ae232b"
   },
   "outputs": [
    {
     "data": {
      "image/png": "[encoded data removed]",
      "text/plain": [
       "<Figure size 432x288 with 1 Axes>"
      ]
     },
     "metadata": {
      "tags": []
     },
     "output_type": "display_data"
    }
   ],
   "source": [
    "def plot_feature_importances(model, dataset, X):\n",
    "    plt.barh(range(X.shape[1]), model.feature_importances_, align='center')\n",
    "    plt.yticks(range(X.shape[1]), list(dataset.columns))\n",
    "    plt.xlabel(\"Feature importance\")\n",
    "    plt.ylabel(\"Feature\")\n",
    "    plt.ylim(-1, X.shape[1])\n",
    "    \n",
    "plot_feature_importances(tree, dataset, X)"
   ]
  },
  {
   "cell_type": "markdown",
   "metadata": {
    "colab_type": "text",
    "id": "NW7ngoF2rlkm"
   },
   "source": [
    "From graph above, we can see that the important features for classification are petal_width and petal_length."
   ]
  },
  {
   "cell_type": "markdown",
   "metadata": {
    "colab_type": "text",
    "id": "VsT8fx0drlko"
   },
   "source": [
    "__Conclusion:__ <br>\n",
    "More complex model like DecisionTreeClassifier makes not so different prediction from simpler model that we have considered before, because our dataset type is not high dimensional also the dataset size is pretty small, so DecisionTreeClassifier probably not a good choice to use for this particular dataset. Another important point is DecisionTreeClassifier tends to overfit the training set. Then we have to move on to another algorithm that tackle this kind of problem."
   ]
  },
  {
   "cell_type": "markdown",
   "metadata": {
    "colab_type": "text",
    "id": "aIcFsGKSrlkq"
   },
   "source": [
    "---"
   ]
  },
  {
   "cell_type": "markdown",
   "metadata": {
    "colab_type": "text",
    "id": "o6eaJ6xXrlkt"
   },
   "source": [
    "## RandomForestClassifier"
   ]
  },
  {
   "cell_type": "markdown",
   "metadata": {
    "colab_type": "text",
    "id": "fH-U6BZgrlkt"
   },
   "source": [
    "RandomForestClassifier implements the same concept as DecisionTreeClassifier but with improvement to control the overfit behavior DecisionTreeClassifier has. This time we will consider the parameter n_estimators and max_depth."
   ]
  },
  {
   "cell_type": "code",
   "execution_count": 0,
   "metadata": {
    "colab": {},
    "colab_type": "code",
    "id": "76rSfVcArlku"
   },
   "outputs": [],
   "source": [
    "from sklearn.ensemble import RandomForestClassifier\n",
    "\n",
    "rfc = RandomForestClassifier().fit(X_train, y_train)"
   ]
  },
  {
   "cell_type": "markdown",
   "metadata": {
    "colab_type": "text",
    "id": "mu64ERPArlk0"
   },
   "source": [
    "Let's take a look on predicted values and test set values to compare:"
   ]
  },
  {
   "cell_type": "code",
   "execution_count": 0,
   "metadata": {
    "colab": {
     "base_uri": "https://localhost:8080/",
     "height": 127
    },
    "colab_type": "code",
    "id": "IcT7rwTxrlk2",
    "outputId": "fc16c17d-6d8f-49cb-b48c-1dc1d883e7d4"
   },
   "outputs": [
    {
     "name": "stdout",
     "output_type": "stream",
     "text": [
      "First ten predicted values:\n",
      "['Versicolor' 'Setosa' 'Virginica' 'Versicolor' 'Versicolor' 'Setosa'\n",
      " 'Versicolor' 'Virginica' 'Versicolor' 'Versicolor']\n",
      "First ten test set values:\n",
      "['Versicolor' 'Setosa' 'Virginica' 'Versicolor' 'Versicolor' 'Setosa'\n",
      " 'Versicolor' 'Virginica' 'Versicolor' 'Versicolor']\n"
     ]
    }
   ],
   "source": [
    "print(\"First ten predicted values:\\n{}\".format(rfc.predict(X_test)[:10]))\n",
    "print(\"First ten test set values:\\n{}\".format(y_test[:10]))"
   ]
  },
  {
   "cell_type": "code",
   "execution_count": 0,
   "metadata": {
    "colab": {
     "base_uri": "https://localhost:8080/",
     "height": 54
    },
    "colab_type": "code",
    "id": "IHue6xsErlk8",
    "outputId": "c5c55f91-8d12-496a-f91b-ac92a79a953b"
   },
   "outputs": [
    {
     "name": "stdout",
     "output_type": "stream",
     "text": [
      "Training set score: 0.992\n",
      "Test set score: 1.000\n"
     ]
    }
   ],
   "source": [
    "# training set score and test set score\n",
    "print(\"Training set score: {:.3f}\".format(rfc.score(X_train, y_train)))\n",
    "print(\"Test set score: {:.3f}\".format(rfc.score(X_test, y_test)))"
   ]
  },
  {
   "cell_type": "markdown",
   "metadata": {
    "colab_type": "text",
    "id": "oFWyhW9LrllF"
   },
   "source": [
    "Let's see the graph of model complexity vs score with parameter n_estimators:"
   ]
  },
  {
   "cell_type": "code",
   "execution_count": 0,
   "metadata": {
    "colab": {},
    "colab_type": "code",
    "id": "GlC4scg2rllI"
   },
   "outputs": [],
   "source": [
    "train_score = []\n",
    "test_score = []\n",
    "\n",
    "for estimators in np.arange(10, 110, 10):\n",
    "    rfc = RandomForestClassifier(n_estimators=estimators, random_state=0).fit(X_train, y_train)\n",
    "    train_score.append(rfc.score(X_train, y_train))\n",
    "    test_score.append(rfc.score(X_test, y_test))"
   ]
  },
  {
   "cell_type": "code",
   "execution_count": 0,
   "metadata": {
    "colab": {
     "base_uri": "https://localhost:8080/",
     "height": 296
    },
    "colab_type": "code",
    "id": "mHBS_ULLrllO",
    "outputId": "aaed7f47-bbbb-4857-f337-02a0c38eedf6",
    "scrolled": true
   },
   "outputs": [
    {
     "data": {
      "image/png": "[encoded data removed]",
      "text/plain": [
       "<Figure size 432x288 with 1 Axes>"
      ]
     },
     "metadata": {
      "tags": []
     },
     "output_type": "display_data"
    }
   ],
   "source": [
    "plt.plot(np.arange(10, 110, 10), train_score, '-r', label='Training Score')\n",
    "plt.plot(np.arange(10, 110, 10), test_score, '--b', label='Test score')\n",
    "plt.xlabel('n_estimators')\n",
    "plt.ylabel('Score')\n",
    "plt.title('n_estimators vs Score')\n",
    "plt.legend(loc='best');"
   ]
  },
  {
   "cell_type": "markdown",
   "metadata": {
    "colab_type": "text",
    "id": "r7GwdDK8rllS"
   },
   "source": [
    "Now see the graph of model complexity vs score with parameter max_depth:"
   ]
  },
  {
   "cell_type": "code",
   "execution_count": 0,
   "metadata": {
    "colab": {
     "base_uri": "https://localhost:8080/",
     "height": 296
    },
    "colab_type": "code",
    "id": "ijqatoXxrllU",
    "outputId": "b0ab96a1-4325-4cf2-99b9-677e6005d2c2"
   },
   "outputs": [
    {
     "data": {
      "image/png": "[encoded data removed]",
      "text/plain": [
       "<Figure size 432x288 with 1 Axes>"
      ]
     },
     "metadata": {
      "tags": []
     },
     "output_type": "display_data"
    }
   ],
   "source": [
    "train_score = []\n",
    "test_score = []\n",
    "\n",
    "for depth in range(1, 11):\n",
    "    rfc = RandomForestClassifier(max_depth=depth, random_state=0).fit(X_train, y_train)\n",
    "    train_score.append(rfc.score(X_train, y_train))\n",
    "    test_score.append(rfc.score(X_test, y_test))\n",
    "\n",
    "plt.plot(range(1, 11), train_score, '-r', label='Training Score')\n",
    "plt.plot(range(1, 11), test_score, '--b', label='Test score')\n",
    "plt.xlabel('max_depth')\n",
    "plt.ylabel('Score')\n",
    "plt.title('max_depth vs Score')\n",
    "plt.legend(loc='best');"
   ]
  },
  {
   "cell_type": "markdown",
   "metadata": {
    "colab_type": "text",
    "id": "u-lY_Stxrllb"
   },
   "source": [
    "__Conclusion:__ <br>\n",
    "From the two graphs above, changing parameter is not making any big changes to our score both for the training set and test set. Eventhough, usualy ensemble machine learning algorithms tend to sensitive to paramaters tuning."
   ]
  },
  {
   "cell_type": "markdown",
   "metadata": {
    "colab_type": "text",
    "id": "PMrMbeccrlld"
   },
   "source": [
    "---"
   ]
  },
  {
   "cell_type": "markdown",
   "metadata": {
    "colab_type": "text",
    "id": "ai4JlWhGrllf"
   },
   "source": [
    "## GradientBosstingClassifier"
   ]
  },
  {
   "cell_type": "markdown",
   "metadata": {
    "colab_type": "text",
    "id": "74FVEi8-rllg"
   },
   "source": [
    "Another ensemble machine learning algorithm that implements the concept of Decision Tree algorithm is GradientBoostingClassifier."
   ]
  },
  {
   "cell_type": "code",
   "execution_count": 0,
   "metadata": {
    "colab": {},
    "colab_type": "code",
    "id": "qYltPLnMrlli"
   },
   "outputs": [],
   "source": [
    "from sklearn.ensemble import GradientBoostingClassifier\n",
    "\n",
    "gbrt = GradientBoostingClassifier().fit(X_train, y_train)"
   ]
  },
  {
   "cell_type": "markdown",
   "metadata": {
    "colab_type": "text",
    "id": "bO9s-uJ7rlly"
   },
   "source": [
    "Let's take a look on predicted values and test set values to compare:"
   ]
  },
  {
   "cell_type": "code",
   "execution_count": 0,
   "metadata": {
    "colab": {
     "base_uri": "https://localhost:8080/",
     "height": 127
    },
    "colab_type": "code",
    "id": "aJQhf81Nrll1",
    "outputId": "fec0c672-32c1-4856-de94-6ecfa8b0867c"
   },
   "outputs": [
    {
     "name": "stdout",
     "output_type": "stream",
     "text": [
      "First ten predicted values:\n",
      "['Versicolor' 'Setosa' 'Virginica' 'Versicolor' 'Versicolor' 'Setosa'\n",
      " 'Versicolor' 'Virginica' 'Versicolor' 'Versicolor']\n",
      "First ten test set values:\n",
      "['Versicolor' 'Setosa' 'Virginica' 'Versicolor' 'Versicolor' 'Setosa'\n",
      " 'Versicolor' 'Virginica' 'Versicolor' 'Versicolor']\n"
     ]
    }
   ],
   "source": [
    "print(\"First ten predicted values:\\n{}\".format(gbrt.predict(X_test)[:10]))\n",
    "print(\"First ten test set values:\\n{}\".format(y_test[:10]))"
   ]
  },
  {
   "cell_type": "code",
   "execution_count": 0,
   "metadata": {
    "colab": {
     "base_uri": "https://localhost:8080/",
     "height": 54
    },
    "colab_type": "code",
    "id": "nIvXRcXkrlmB",
    "outputId": "2537c5e4-71e5-4d05-ef87-13610fe99380"
   },
   "outputs": [
    {
     "name": "stdout",
     "output_type": "stream",
     "text": [
      "Training set score: 1.000\n",
      "Test set score: 1.000\n"
     ]
    }
   ],
   "source": [
    "# training set score and test set score\n",
    "print(\"Training set score: {:.3f}\".format(gbrt.score(X_train, y_train)))\n",
    "print(\"Test set score: {:.3f}\".format(gbrt.score(X_test, y_test)))"
   ]
  },
  {
   "cell_type": "markdown",
   "metadata": {
    "colab_type": "text",
    "id": "FSWT2qr5rlmG"
   },
   "source": [
    "Accuracy score for training set is 100% and for test set 97%, an indication that our model tends to overfit. We can control this by tuning the paramater, let's start by considering parameter learning_rate."
   ]
  },
  {
   "cell_type": "code",
   "execution_count": 0,
   "metadata": {
    "colab": {
     "base_uri": "https://localhost:8080/",
     "height": 300
    },
    "colab_type": "code",
    "id": "fsUOqVHorlmI",
    "outputId": "a22cb020-d004-4bdf-f961-a0eef73bb425"
   },
   "outputs": [
    {
     "data": {
      "image/png": "[encoded data removed]",
      "text/plain": [
       "<Figure size 432x288 with 1 Axes>"
      ]
     },
     "metadata": {
      "tags": []
     },
     "output_type": "display_data"
    }
   ],
   "source": [
    "train_score = []\n",
    "test_score = []\n",
    "\n",
    "for rate in [0.0001, 0.001, 0.01, 0.1, 1, 10, 100, 1000, 10000]:\n",
    "    gbrt = GradientBoostingClassifier(learning_rate=rate, random_state=0).fit(X_train, y_train)\n",
    "    train_score.append(gbrt.score(X_train, y_train))\n",
    "    test_score.append(gbrt.score(X_test, y_test))\n",
    "\n",
    "plt.plot([0.0001, 0.001, 0.01, 0.1, 1, 10, 100, 1000, 10000], train_score, '-r', label='Training Score')\n",
    "plt.plot([0.0001, 0.001, 0.01, 0.1, 1, 10, 100, 1000, 10000], test_score, '--b', label='Test score')\n",
    "plt.xscale('log')\n",
    "plt.xlabel('learning_rate')\n",
    "plt.ylabel('Score')\n",
    "plt.title('learning_rate vs Score')\n",
    "plt.legend(loc='best');"
   ]
  },
  {
   "cell_type": "markdown",
   "metadata": {
    "colab_type": "text",
    "id": "ewpMSVyCrlmS"
   },
   "source": [
    "__Conclusion:__ <br>\n",
    "Not so different from RandomForestClassifier, complex model on simple dataset is not a good choice."
   ]
  },
  {
   "cell_type": "markdown",
   "metadata": {
    "colab_type": "text",
    "id": "ysel8jeJrlmU"
   },
   "source": [
    "---"
   ]
  },
  {
   "cell_type": "markdown",
   "metadata": {
    "colab_type": "text",
    "id": "QuF6gyElrlmW"
   },
   "source": [
    "## Support Vector Classifier (SVC)"
   ]
  },
  {
   "cell_type": "code",
   "execution_count": 0,
   "metadata": {
    "colab": {
     "base_uri": "https://localhost:8080/",
     "height": 127
    },
    "colab_type": "code",
    "id": "iQWKfCldrlmW",
    "outputId": "1454fcc8-4d81-4c93-a697-e208523a3aa9"
   },
   "outputs": [
    {
     "name": "stdout",
     "output_type": "stream",
     "text": [
      "First ten predicted values:\n",
      "['Versicolor' 'Setosa' 'Virginica' 'Versicolor' 'Versicolor' 'Setosa'\n",
      " 'Versicolor' 'Virginica' 'Versicolor' 'Versicolor']\n",
      "First ten test set values:\n",
      "['Versicolor' 'Setosa' 'Virginica' 'Versicolor' 'Versicolor' 'Setosa'\n",
      " 'Versicolor' 'Virginica' 'Versicolor' 'Versicolor']\n"
     ]
    }
   ],
   "source": [
    "from sklearn.svm import SVC\n",
    "\n",
    "svc = SVC().fit(X_train, y_train)\n",
    "print(\"First ten predicted values:\\n{}\".format(svc.predict(X_test)[:10]))\n",
    "print(\"First ten test set values:\\n{}\".format(y_test[:10]))"
   ]
  },
  {
   "cell_type": "markdown",
   "metadata": {
    "colab_type": "text",
    "id": "lE4YWVdnrlmi"
   },
   "source": [
    "Let's look at training set and test set score:"
   ]
  },
  {
   "cell_type": "code",
   "execution_count": 0,
   "metadata": {
    "colab": {
     "base_uri": "https://localhost:8080/",
     "height": 54
    },
    "colab_type": "code",
    "id": "DauZSV5erlmk",
    "outputId": "79595cfb-bf10-4f0a-9569-14daed837509"
   },
   "outputs": [
    {
     "name": "stdout",
     "output_type": "stream",
     "text": [
      "Training set score: 0.992\n",
      "Test set score: 1.000\n"
     ]
    }
   ],
   "source": [
    "# training set score and test set score\n",
    "print(\"Training set score: {:.3f}\".format(svc.score(X_train, y_train)))\n",
    "print(\"Test set score: {:.3f}\".format(svc.score(X_test, y_test)))"
   ]
  },
  {
   "cell_type": "markdown",
   "metadata": {
    "colab_type": "text",
    "id": "Kw8P50L5V6Dc"
   },
   "source": [
    "### Dump Machine Learning Model"
   ]
  },
  {
   "cell_type": "code",
   "execution_count": 0,
   "metadata": {
    "colab": {},
    "colab_type": "code",
    "id": "vxsOo-8BV3ql"
   },
   "outputs": [],
   "source": [
    "pickle.dump(knc, open('model.pkl','wb'))"
   ]
  },
  {
   "cell_type": "markdown",
   "metadata": {
    "colab_type": "text",
    "id": "7E50XHaJrlnB"
   },
   "source": [
    "---"
   ]
  },
  {
   "cell_type": "markdown",
   "metadata": {
    "colab_type": "text",
    "id": "es3Et8fLrlnE"
   },
   "source": [
    "# Summary:"
   ]
  },
  {
   "cell_type": "markdown",
   "metadata": {
    "colab_type": "text",
    "id": "txTgLgpirlnG"
   },
   "source": [
    "We have considered 8 different machine learning algorithms, start from the simpler model like KNeighborsClassifier to more complex model like SVC. From our exploratory predictive modeling we know that simple dataset with low dimensional and small size data, we can use a simple model to make a prediction, without the tuning parameter choices. If simple model is do a good performance, why we have to use a more complex model, that probably need more resources like time and memory. So the good rules of thumb are first consider simple model and if simple model do a good prediction, it is better to just use it. But it is also depends on the nature of dataset itself."
   ]
  }
 ],
 "metadata": {
  "colab": {
   "name": "predictive-modeling-iris-dataset.ipynb",
   "provenance": []
  },
  "kernelspec": {
   "display_name": "Python 3",
   "language": "python",
   "name": "python3"
  },
  "language_info": {
   "codemirror_mode": {
    "name": "ipython",
    "version": 3
   },
   "file_extension": ".py",
   "mimetype": "text/x-python",
   "name": "python",
   "nbconvert_exporter": "python",
   "pygments_lexer": "ipython3",
   "version": "3.8.5"
  }
 },
 "nbformat": 4,
 "nbformat_minor": 1
}
